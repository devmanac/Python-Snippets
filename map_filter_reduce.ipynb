{
 "cells": [
  {
   "cell_type": "code",
   "execution_count": 2,
   "id": "2505f711",
   "metadata": {},
   "outputs": [
    {
     "name": "stdout",
     "output_type": "stream",
     "text": [
      "[('a', 1), ('b', 2), ('c', 3), ('d', 4), ('e', 5)]\n"
     ]
    }
   ],
   "source": [
    "# Map()\n",
    "my_strings = ['a', 'b', 'c', 'd', 'e']\n",
    "my_numbers = [1, 2, 3, 4, 5]\n",
    "\n",
    "results = list(map(lambda x, y: (x, y), my_strings, my_numbers))\n",
    "\n",
    "print(results)"
   ]
  },
  {
   "cell_type": "code",
   "execution_count": 3,
   "id": "76be7caa",
   "metadata": {},
   "outputs": [
    {
     "name": "stdout",
     "output_type": "stream",
     "text": [
      "[90, 76, 88, 81]\n"
     ]
    }
   ],
   "source": [
    "# filter()\n",
    "scores = [66, 90, 68, 59, 76, 60, 88, 74, 81, 65]\n",
    "\n",
    "def is_A_student(score):\n",
    "    return score > 75\n",
    "\n",
    "over_75 = list(filter(is_A_student, scores))\n",
    "\n",
    "print(over_75)"
   ]
  },
  {
   "cell_type": "code",
   "execution_count": 4,
   "id": "3273baa7",
   "metadata": {},
   "outputs": [
    {
     "name": "stdout",
     "output_type": "stream",
     "text": [
      "['madam', 'anutforajaroftuna']\n"
     ]
    }
   ],
   "source": [
    "dromes = (\"demigod\", \"rewire\", \"madam\", \"freer\", \"anutforajaroftuna\", \"kiosk\")\n",
    "\n",
    "palindromes = list(filter(lambda word: word == word[::-1], dromes))\n",
    "\n",
    "print(palindromes)"
   ]
  },
  {
   "cell_type": "code",
   "execution_count": 5,
   "id": "278f7859",
   "metadata": {},
   "outputs": [
    {
     "name": "stdout",
     "output_type": "stream",
     "text": [
      "68\n"
     ]
    }
   ],
   "source": [
    "# reduce()\n",
    "from functools import reduce\n",
    "\n",
    "numbers = [3, 4, 6, 9, 34, 12]\n",
    "\n",
    "def custom_sum(first, second):\n",
    "    return first + second\n",
    "\n",
    "result = reduce(custom_sum, numbers)\n",
    "print(result)"
   ]
  },
  {
   "cell_type": "code",
   "execution_count": 6,
   "id": "aa424531",
   "metadata": {},
   "outputs": [
    {
     "name": "stdout",
     "output_type": "stream",
     "text": [
      "78\n"
     ]
    }
   ],
   "source": [
    "from functools import reduce\n",
    "\n",
    "numbers = [3, 4, 6, 9, 34, 12]\n",
    "\n",
    "def custom_sum(first, second):\n",
    "    return first + second\n",
    "\n",
    "result = reduce(custom_sum, numbers, 10)\n",
    "print(result)"
   ]
  },
  {
   "cell_type": "code",
   "execution_count": 1,
   "id": "1ad4da63",
   "metadata": {},
   "outputs": [
    {
     "name": "stdout",
     "output_type": "stream",
     "text": [
      "[18.922, 37.088, 10.562, 95.453, 4.666, 78.854, 21.068]\n",
      "['olumide', 'josiah', 'omoseun']\n",
      "24840\n"
     ]
    }
   ],
   "source": [
    "#### Map\n",
    "from functools import reduce \n",
    "\n",
    "my_floats = [4.35, 6.09, 3.25, 9.77, 2.16, 8.88, 4.59]\n",
    "my_names = [\"olumide\", \"akinremi\", \"josiah\", \"temidayo\", \"omoseun\"]\n",
    "my_numbers = [4, 6, 9, 23, 5]\n",
    "\n",
    "map_result = list(map(lambda x: round(x ** 2, 3), my_floats))\n",
    "filter_result = list(filter(lambda name: len(name) <= 7, my_names))\n",
    "reduce_result = reduce(lambda num1, num2: num1 * num2, my_numbers)\n",
    "\n",
    "print(map_result)\n",
    "print(filter_result)\n",
    "print(reduce_result)"
   ]
  },
  {
   "cell_type": "code",
   "execution_count": null,
   "id": "a5a5f5be",
   "metadata": {},
   "outputs": [],
   "source": []
  }
 ],
 "metadata": {
  "kernelspec": {
   "display_name": "Python 3 (ipykernel)",
   "language": "python",
   "name": "python3"
  },
  "language_info": {
   "codemirror_mode": {
    "name": "ipython",
    "version": 3
   },
   "file_extension": ".py",
   "mimetype": "text/x-python",
   "name": "python",
   "nbconvert_exporter": "python",
   "pygments_lexer": "ipython3",
   "version": "3.11.5"
  }
 },
 "nbformat": 4,
 "nbformat_minor": 5
}
