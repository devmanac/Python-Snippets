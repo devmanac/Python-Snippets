{
 "cells": [
  {
   "cell_type": "code",
   "execution_count": 1,
   "id": "2331c506",
   "metadata": {},
   "outputs": [],
   "source": [
    "#Call the function two times on single call\n",
    "def repeater(old_function):\n",
    "    def new_function(*args, **kwds): \n",
    "        old_function(*args, **kwds) # we run the old function\n",
    "        old_function(*args, **kwds) # we do it twice\n",
    "    return new_function # we have to return the new_function, or it wouldn't reassign it to the value"
   ]
  },
  {
   "cell_type": "code",
   "execution_count": 2,
   "id": "8cf2fd13",
   "metadata": {},
   "outputs": [
    {
     "name": "stdout",
     "output_type": "stream",
     "text": [
      "6\n",
      "6\n"
     ]
    }
   ],
   "source": [
    "@repeater\n",
    "def multiply(num1, num2):\n",
    "    print(num1 * num2)\n",
    "\n",
    "multiply(2, 3)"
   ]
  },
  {
   "cell_type": "code",
   "execution_count": 3,
   "id": "8a3c0763",
   "metadata": {},
   "outputs": [
    {
     "data": {
      "text/plain": [
       "15"
      ]
     },
     "execution_count": 3,
     "metadata": {},
     "output_type": "execute_result"
    }
   ],
   "source": [
    "def multiply(multiplier):\n",
    "    def multiply_generator(old_function):\n",
    "        def new_function(*args, **kwds):\n",
    "            return multiplier * old_function(*args, **kwds)\n",
    "        return new_function\n",
    "    return multiply_generator # it returns the new generator\n",
    "\n",
    "# Usage\n",
    "@multiply(3) # multiply is not a generator, but multiply(3) is\n",
    "def return_num(num):\n",
    "    return num\n",
    "\n",
    "# Now return_num is decorated and reassigned into itself\n",
    "return_num(5) # should return 15"
   ]
  },
  {
   "cell_type": "code",
   "execution_count": 17,
   "id": "c89afd19",
   "metadata": {},
   "outputs": [
    {
     "name": "stdout",
     "output_type": "stream",
     "text": [
      "Expected Type - 4\n",
      "Wrong Type\n",
      "Expected Type - H\n",
      "Wrong Type\n",
      "Wrong Type\n"
     ]
    }
   ],
   "source": [
    "def type_check(correct_type):\n",
    "    def check(old_function):\n",
    "        def new_function(arg):\n",
    "            if (isinstance(arg, correct_type)):\n",
    "                return old_function(arg)\n",
    "            else:\n",
    "                print(\"Wrong Type\")\n",
    "        return new_function\n",
    "    return check\n",
    "\n",
    "@type_check(int)\n",
    "def times2(num):\n",
    "    return 'Expected Type - ' + str(num*2)\n",
    "\n",
    "print(times2(2))\n",
    "times2('Not A Number')\n",
    "\n",
    "@type_check(str)\n",
    "def first_letter(word):\n",
    "    return 'Expected Type - '+ word[0]\n",
    "\n",
    "print(first_letter('Hello World'))\n",
    "first_letter(['Not', 'A', 'String'])\n",
    "first_letter(4)\n"
   ]
  },
  {
   "cell_type": "code",
   "execution_count": null,
   "id": "3869d31c",
   "metadata": {},
   "outputs": [],
   "source": []
  }
 ],
 "metadata": {
  "kernelspec": {
   "display_name": "Python 3 (ipykernel)",
   "language": "python",
   "name": "python3"
  },
  "language_info": {
   "codemirror_mode": {
    "name": "ipython",
    "version": 3
   },
   "file_extension": ".py",
   "mimetype": "text/x-python",
   "name": "python",
   "nbconvert_exporter": "python",
   "pygments_lexer": "ipython3",
   "version": "3.11.5"
  }
 },
 "nbformat": 4,
 "nbformat_minor": 5
}
