{
 "cells": [
  {
   "cell_type": "code",
   "execution_count": 2,
   "id": "2f69d177",
   "metadata": {},
   "outputs": [
    {
     "name": "stdout",
     "output_type": "stream",
     "text": [
      "8\n"
     ]
    }
   ],
   "source": [
    "from functools import partial\n",
    "\n",
    "def multiply(x, y):\n",
    "        return x * y\n",
    "\n",
    "\n",
    "# default values replaces from left, here x.\n",
    "dbl = partial(multiply, 2) # create a new function that multiplies by 2. \n",
    "print(dbl(4))"
   ]
  },
  {
   "cell_type": "code",
   "execution_count": 5,
   "id": "fbea07bb",
   "metadata": {},
   "outputs": [
    {
     "name": "stdout",
     "output_type": "stream",
     "text": [
      "60\n"
     ]
    }
   ],
   "source": [
    "def func(u, v, w, x):\n",
    "    return u*4 + v*3 + w*2 + x\n",
    "\n",
    "p = partial(func, 5, 6, 7)\n",
    "\n",
    "print(p(8))"
   ]
  },
  {
   "cell_type": "code",
   "execution_count": null,
   "id": "77dea19f",
   "metadata": {},
   "outputs": [],
   "source": []
  }
 ],
 "metadata": {
  "kernelspec": {
   "display_name": "Python 3 (ipykernel)",
   "language": "python",
   "name": "python3"
  },
  "language_info": {
   "codemirror_mode": {
    "name": "ipython",
    "version": 3
   },
   "file_extension": ".py",
   "mimetype": "text/x-python",
   "name": "python",
   "nbconvert_exporter": "python",
   "pygments_lexer": "ipython3",
   "version": "3.11.5"
  }
 },
 "nbformat": 4,
 "nbformat_minor": 5
}
